{
 "cells": [
  {
   "cell_type": "markdown",
   "metadata": {},
   "source": [
    "This code comes from https://github.com/TissueImageAnalytics/tiatoolbox/blob/master/examples/02-stain-normalization.ipynb"
   ]
  },
  {
   "cell_type": "code",
   "execution_count": 1,
   "metadata": {
    "id": "N97OxSFkEi5g"
   },
   "outputs": [
    {
     "name": "stderr",
     "output_type": "stream",
     "text": [
      "|2023-08-08|06:36:37.905| [WARNING] /home/user/anaconda3/lib/python3.9/site-packages/torchvision/io/image.py:13: UserWarning: Failed to load image Python extension: '/home/user/anaconda3/lib/python3.9/site-packages/torchvision/image.so: undefined symbol: _ZN3c104cuda20CUDACachingAllocator9allocatorE'If you don't plan on using image functionality from `torchvision.io`, you can ignore this warning. Otherwise, there might be something wrong with your environment. Did you have `libjpeg` or `libpng` installed before building `torchvision` from source?\n",
      "  warn(\n",
      "\n",
      "|2023-08-08|06:36:38.310| [INFO] Note: NumExpr detected 16 cores but \"NUMEXPR_MAX_THREADS\" not set, so enforcing safe limit of 8.\n",
      "|2023-08-08|06:36:38.310| [INFO] NumExpr defaulting to 8 threads.\n"
     ]
    }
   ],
   "source": [
    "from tiatoolbox import utils\n",
    "from tiatoolbox.wsicore.slide_info import slide_info\n",
    "from tiatoolbox.wsicore import wsireader\n",
    "from tiatoolbox import data\n",
    "import requests\n",
    "import os\n",
    "import numpy as np\n",
    "import matplotlib.pyplot as plt\n",
    "import matplotlib as mpl\n",
    "import matplotlib.image as mpimg\n",
    "mpl.rcParams[\"figure.dpi\"] = 150  # for high resolution figure in notebook"
   ]
  },
  {
   "cell_type": "markdown",
   "metadata": {},
   "source": [
    "# For all patches"
   ]
  },
  {
   "cell_type": "code",
   "execution_count": 5,
   "metadata": {},
   "outputs": [],
   "source": [
    "PATH =  \"/media/user/Ligue_RNA_2partie/PCNSL_2022/1_patches_filiot_224/\"\n",
    "PATH_reinhard =  \"/media/user/Ligue_RNA_2partie/PCNSL_2022/2_normalisation_reinhard_224/\""
   ]
  },
  {
   "cell_type": "code",
   "execution_count": 6,
   "metadata": {},
   "outputs": [],
   "source": [
    "if not os.path.exists(PATH_reinhard) :\n",
    "    os.mkdir(PATH_reinhard)"
   ]
  },
  {
   "cell_type": "code",
   "execution_count": 15,
   "metadata": {},
   "outputs": [
    {
     "data": {
      "text/plain": [
       "106"
      ]
     },
     "execution_count": 15,
     "metadata": {},
     "output_type": "execute_result"
    }
   ],
   "source": [
    "patients = []\n",
    "for i in os.listdir(PATH) :\n",
    "    if i[-3:] != 'jpg' :\n",
    "        patients.append(i)\n",
    "len(patients)"
   ]
  },
  {
   "cell_type": "code",
   "execution_count": 1,
   "metadata": {
    "scrolled": true
   },
   "outputs": [],
   "source": [
    "from tiatoolbox.tools import stainnorm\n",
    "method_name = \"Reinhard\"\n",
    "from PIL import Image\n",
    "\n",
    "PATH_sub = '/'\n",
    "import skimage.color\n",
    "\n",
    "stain_matrix = skimage.color.fgx_from_rgb[:2]\n",
    "custom_normalizer = stainnorm.CustomNormalizer(stain_matrix)\n",
    "\n",
    "liste_patient = []\n",
    "target_image = data.stain_norm_target()\n",
    "count = 0\n",
    "\n",
    "for patient in patients :\n",
    "    print(patient)\n",
    "    if not os.path.exists(PATH_reinhard+patient) :\n",
    "        os.mkdir(PATH_reinhard+patient)\n",
    "        print(\"dossier créé\", patient)\n",
    "        for i in os.listdir(PATH+patient+PATH_sub):\n",
    "#             if count%100 == 0:\n",
    "#                 print(count)\n",
    "            sample = plt.imread(PATH+patient+PATH_sub+i)\n",
    "            stain_normalizer = stainnorm.get_normalizer(method_name)\n",
    "            stain_normalizer.fit(target_image)\n",
    "            normed_sample = stain_normalizer.transform(sample.copy())\n",
    "            im = Image.fromarray(normed_sample)\n",
    "            im.save(PATH_reinhard+patient+\"/\"+i) \n",
    "    else:\n",
    "        print(patient, \"already normalized\")\n",
    "    count += 1\n",
    "    \n",
    "\n"
   ]
  },
  {
   "cell_type": "code",
   "execution_count": null,
   "metadata": {},
   "outputs": [],
   "source": []
  }
 ],
 "metadata": {
  "celltoolbar": "Edit Metadata",
  "colab": {
   "collapsed_sections": [],
   "name": "02-stain-normalization.ipynb",
   "provenance": [],
   "toc_visible": true
  },
  "kernelspec": {
   "display_name": "Python 3 (ipykernel)",
   "language": "python",
   "name": "python3"
  },
  "language_info": {
   "codemirror_mode": {
    "name": "ipython",
    "version": 3
   },
   "file_extension": ".py",
   "mimetype": "text/x-python",
   "name": "python",
   "nbconvert_exporter": "python",
   "pygments_lexer": "ipython3",
   "version": "3.9.7"
  }
 },
 "nbformat": 4,
 "nbformat_minor": 2
}
