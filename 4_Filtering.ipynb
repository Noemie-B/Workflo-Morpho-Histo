{
 "cells": [
  {
   "cell_type": "code",
   "execution_count": 1,
   "id": "e9d57344",
   "metadata": {},
   "outputs": [],
   "source": [
    "import pandas as pd\n",
    "import os\n",
    "import numpy as np\n",
    "import geojson\n",
    "import cv2\n",
    "from json.decoder import JSONDecodeError\n"
   ]
  },
  {
   "cell_type": "code",
   "execution_count": 2,
   "id": "8db8a110",
   "metadata": {},
   "outputs": [],
   "source": [
    "import warnings\n",
    "warnings.simplefilter(action='ignore', category=FutureWarning)"
   ]
  },
  {
   "cell_type": "code",
   "execution_count": 6,
   "id": "36ccfa64",
   "metadata": {},
   "outputs": [],
   "source": [
    "PATH_hovernet = '/media/user/Seagate_RNA/PCNSL_PSL/3_hovernet_normalisation_reinhard_224/'\n",
    "PATH_output = '/media/user/Seagate_RNA/PCNSL_PSL/4_df_count_cells/'"
   ]
  },
  {
   "cell_type": "code",
   "execution_count": 7,
   "id": "69a39e56",
   "metadata": {},
   "outputs": [
    {
     "name": "stdout",
     "output_type": "stream",
     "text": [
      "106\n"
     ]
    }
   ],
   "source": [
    "patients = os.listdir(PATH_hovernet)\n",
    "print(len(patients))"
   ]
  },
  {
   "cell_type": "code",
   "execution_count": 8,
   "id": "b192f8d2",
   "metadata": {},
   "outputs": [
    {
     "data": {
      "text/html": [
       "<div>\n",
       "<style scoped>\n",
       "    .dataframe tbody tr th:only-of-type {\n",
       "        vertical-align: middle;\n",
       "    }\n",
       "\n",
       "    .dataframe tbody tr th {\n",
       "        vertical-align: top;\n",
       "    }\n",
       "\n",
       "    .dataframe thead th {\n",
       "        text-align: right;\n",
       "    }\n",
       "</style>\n",
       "<table border=\"1\" class=\"dataframe\">\n",
       "  <thead>\n",
       "    <tr style=\"text-align: right;\">\n",
       "      <th></th>\n",
       "      <th>patient</th>\n",
       "      <th>patch</th>\n",
       "      <th>cells_tot</th>\n",
       "      <th>cells_filtre_bords</th>\n",
       "      <th>cells_filtre_diametre</th>\n",
       "      <th>cells_filtre_tot</th>\n",
       "    </tr>\n",
       "  </thead>\n",
       "  <tbody>\n",
       "  </tbody>\n",
       "</table>\n",
       "</div>"
      ],
      "text/plain": [
       "Empty DataFrame\n",
       "Columns: [patient, patch, cells_tot, cells_filtre_bords, cells_filtre_diametre, cells_filtre_tot]\n",
       "Index: []"
      ]
     },
     "execution_count": 8,
     "metadata": {},
     "output_type": "execute_result"
    }
   ],
   "source": [
    "columns_df = {'patient' : [], 'patch' : [], 'cells_tot' : [], 'cells_filtre_bords' : [], 'cells_filtre_diametre' : [], 'cells_filtre_tot' : []}\n",
    "df = pd.DataFrame.from_dict(columns_df)\n",
    "df"
   ]
  },
  {
   "cell_type": "code",
   "execution_count": 9,
   "id": "2b874793",
   "metadata": {},
   "outputs": [],
   "source": [
    "#removing nuclei located at the border and nuclei which don't have a number of pixels  in the range [32:350] \n",
    "width = 224\n",
    "marge = 1\n",
    "res = 0.23\n",
    "\n",
    "nbre_pix_inf = 32\n",
    "nbre_pix_sup = 350"
   ]
  },
  {
   "cell_type": "code",
   "execution_count": 10,
   "id": "85e89301",
   "metadata": {},
   "outputs": [],
   "source": [
    "from PIL import Image, ImageDraw\n",
    "def function_cell(cell) :\n",
    "    width = 224\n",
    "    poly_cell = []\n",
    "    for x in cell[\"contour\"] :\n",
    "        poly_cell.append((x[0], x[1]))\n",
    "    width = width\n",
    "    height = width\n",
    "    \n",
    "    mask_cell = np.zeros((width, width), dtype = int)\n",
    "    \n",
    "    img = Image.new('L', (width, height), 0)\n",
    "    ImageDraw.Draw(img).polygon(poly_cell, outline = 1, fill=1)\n",
    "    mask = np.array(img)\n",
    "    mask_cell += mask\n",
    "    \n",
    "    mask_cell = np.array(mask_cell, dtype = 'uint8')\n",
    "\n",
    "    \n",
    "    return mask_cell"
   ]
  },
  {
   "cell_type": "code",
   "execution_count": 11,
   "id": "f3975f1e",
   "metadata": {},
   "outputs": [],
   "source": [
    "def nbre_pixels(cnt1):\n",
    "    mask_cell = function_cell(cnt1)\n",
    "    number_of_white_pix = np.sum(mask_cell != 0)\n",
    "    return number_of_white_pix"
   ]
  },
  {
   "cell_type": "code",
   "execution_count": 15,
   "id": "b74a1a4e",
   "metadata": {},
   "outputs": [],
   "source": [
    "for patient in patients :\n",
    "    if patient not in [''] :\n",
    "        if not os.path.exists(PATH_output+patient+'_.csv'):# and patient not in ['19B2703-V']:\n",
    "           # print(patient)\n",
    "            PATH_json = PATH_hovernet+patient+'/json/' \n",
    "            columns_df = {'patient' : [], 'patch' : [], 'cells_tot' : [], 'cells_filtre_bords' : [], 'cells_filtre_diametre' : [], 'cells_filtre_tot' : []}\n",
    "            df = pd.DataFrame.from_dict(columns_df)\n",
    "            jsons = os.listdir(PATH_json)\n",
    "            #print(len(jsons))\n",
    "            for patch in jsons : \n",
    "                if patch not in ['']:#liste:\n",
    "                    #print(patch)\n",
    "                    with open(PATH_json+patch) as f :\n",
    "                        nuclei = geojson.load(f)\n",
    "\n",
    "\n",
    "                    key_keep = []\n",
    "                    key_not_keep_bords = []\n",
    "                    key_not_keep_diametre = []\n",
    "                    key_not_keep = []\n",
    "\n",
    "                    cells_tot = len(list(nuclei['nuc'].keys()))\n",
    "                    \n",
    "                    for key in list(nuclei['nuc'].keys()) :\n",
    "                        for x in nuclei['nuc'][key]['contour'] :\n",
    "                            if x[0] < marge or x[0] > (width-marge) or x[1] < marge or x[1] > (width-marge) :\n",
    "                                key_not_keep_bords.append(key)     \n",
    "                            pix_count = nbre_pixels(nuclei['nuc'][key])\n",
    "\n",
    "                            if pix_count < nbre_pix_inf or pix_count > nbre_pix_sup : #\n",
    "                                key_not_keep_diametre.append(key)\n",
    "\n",
    "                            key_not_keep_bords = list(set(key_not_keep_bords))\n",
    "                            key_not_keep_diametre = list(set(key_not_keep_diametre))\n",
    "                            key_not_keep = key_not_keep_bords + key_not_keep_diametre\n",
    "                            key_not_keep = list(set(key_not_keep))\n",
    "\n",
    "                        for x in nuclei['nuc'][key]['contour'] :\n",
    "                            if key not in key_not_keep  :\n",
    "                                key_keep.append(key) \n",
    "\n",
    "                    new_row = {'patient' : patient, 'patch' : patch, 'cells_tot' : cells_tot, 'cells_filtre_bords' : cells_tot - len(key_not_keep_bords), 'cells_filtre_diametre' : cells_tot - len(key_not_keep_diametre), 'cells_filtre_tot' : cells_tot - len(key_not_keep)}\n",
    "                    df = pd.concat([df, pd.DataFrame([new_row])], ignore_index=True)\n",
    "\n",
    "            df = df.sort_values(by=['cells_filtre_tot'], ascending = False)\n",
    "            df.to_csv(PATH_output+patient+'.csv')\n",
    "        else:\n",
    "            print(patient, 'déjà traité')"
   ]
  },
  {
   "cell_type": "markdown",
   "id": "7b099967",
   "metadata": {},
   "source": [
    "# To have some statistics"
   ]
  },
  {
   "cell_type": "code",
   "execution_count": null,
   "id": "2c5b5731",
   "metadata": {},
   "outputs": [],
   "source": [
    "print(df_tot['cells_tot_mean'].mean())"
   ]
  },
  {
   "cell_type": "code",
   "execution_count": null,
   "id": "c6153079",
   "metadata": {},
   "outputs": [],
   "source": [
    "df_tot['cells_filtre_bords_mean'].mean()\n",
    "print(df_tot['cells_filtre_bords_mean'].mean()*100/df_tot['cells_tot_mean'].mean())"
   ]
  },
  {
   "cell_type": "code",
   "execution_count": null,
   "id": "faf46b36",
   "metadata": {},
   "outputs": [],
   "source": [
    "df_tot['cells_filtre_diametre_mean'].mean()\n",
    "print(df_tot['cells_filtre_diametre_mean'].mean()*100/df_tot['cells_tot_mean'].mean())"
   ]
  },
  {
   "cell_type": "code",
   "execution_count": null,
   "id": "dbbbd631",
   "metadata": {},
   "outputs": [],
   "source": [
    "df_tot['cells_filtre_tot_mean'].mean()\n",
    "print(df_tot['cells_filtre_tot_mean'].mean()*100/df_tot['cells_tot_mean'].mean())"
   ]
  }
 ],
 "metadata": {
  "kernelspec": {
   "display_name": "Python 3 (ipykernel)",
   "language": "python",
   "name": "python3"
  },
  "language_info": {
   "codemirror_mode": {
    "name": "ipython",
    "version": 3
   },
   "file_extension": ".py",
   "mimetype": "text/x-python",
   "name": "python",
   "nbconvert_exporter": "python",
   "pygments_lexer": "ipython3",
   "version": "3.9.7"
  }
 },
 "nbformat": 4,
 "nbformat_minor": 5
}
